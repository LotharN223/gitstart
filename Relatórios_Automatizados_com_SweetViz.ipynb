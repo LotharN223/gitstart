{
  "nbformat": 4,
  "nbformat_minor": 0,
  "metadata": {
    "colab": {
      "provenance": [],
      "include_colab_link": true
    },
    "kernelspec": {
      "name": "python3",
      "display_name": "Python 3"
    },
    "widgets": {
      "application/vnd.jupyter.widget-state+json": {
        "819f7b1a9d034781a4742d8a49b57396": {
          "model_module": "@jupyter-widgets/controls",
          "model_name": "HBoxModel",
          "model_module_version": "1.5.0",
          "state": {
            "_dom_classes": [],
            "_model_module": "@jupyter-widgets/controls",
            "_model_module_version": "1.5.0",
            "_model_name": "HBoxModel",
            "_view_count": null,
            "_view_module": "@jupyter-widgets/controls",
            "_view_module_version": "1.5.0",
            "_view_name": "HBoxView",
            "box_style": "",
            "children": [
              "IPY_MODEL_ee5a480b7c62451c9f76aa14a9e95431",
              "IPY_MODEL_8ff2a45810fe4caca09abd4bd187ea42",
              "IPY_MODEL_c01736388e0747619aa4c99be85b5039"
            ],
            "layout": "IPY_MODEL_b9fd8834401245b88b3ca75cf6d859c8"
          }
        },
        "ee5a480b7c62451c9f76aa14a9e95431": {
          "model_module": "@jupyter-widgets/controls",
          "model_name": "HTMLModel",
          "model_module_version": "1.5.0",
          "state": {
            "_dom_classes": [],
            "_model_module": "@jupyter-widgets/controls",
            "_model_module_version": "1.5.0",
            "_model_name": "HTMLModel",
            "_view_count": null,
            "_view_module": "@jupyter-widgets/controls",
            "_view_module_version": "1.5.0",
            "_view_name": "HTMLView",
            "description": "",
            "description_tooltip": null,
            "layout": "IPY_MODEL_37ca2805e34447d9aa23bad297574407",
            "placeholder": "​",
            "style": "IPY_MODEL_eedf347d3d6e4f76ab1075bacf7d98a6",
            "value": "Done! Use &#x27;show&#x27; commands to display/save.   "
          }
        },
        "8ff2a45810fe4caca09abd4bd187ea42": {
          "model_module": "@jupyter-widgets/controls",
          "model_name": "FloatProgressModel",
          "model_module_version": "1.5.0",
          "state": {
            "_dom_classes": [],
            "_model_module": "@jupyter-widgets/controls",
            "_model_module_version": "1.5.0",
            "_model_name": "FloatProgressModel",
            "_view_count": null,
            "_view_module": "@jupyter-widgets/controls",
            "_view_module_version": "1.5.0",
            "_view_name": "ProgressView",
            "bar_style": "success",
            "description": "",
            "description_tooltip": null,
            "layout": "IPY_MODEL_faa35c1983cb4750955dde4301c53fb6",
            "max": 1,
            "min": 0,
            "orientation": "horizontal",
            "style": "IPY_MODEL_c9b0a3bf5ec64d2e8023af3a66a9c925",
            "value": 1
          }
        },
        "c01736388e0747619aa4c99be85b5039": {
          "model_module": "@jupyter-widgets/controls",
          "model_name": "HTMLModel",
          "model_module_version": "1.5.0",
          "state": {
            "_dom_classes": [],
            "_model_module": "@jupyter-widgets/controls",
            "_model_module_version": "1.5.0",
            "_model_name": "HTMLModel",
            "_view_count": null,
            "_view_module": "@jupyter-widgets/controls",
            "_view_module_version": "1.5.0",
            "_view_name": "HTMLView",
            "description": "",
            "description_tooltip": null,
            "layout": "IPY_MODEL_630ddeabcb634cca8fc6f4998e6d534e",
            "placeholder": "​",
            "style": "IPY_MODEL_84ac84f23a50437a8ebdd6bf421ed8f3",
            "value": " [100%]   00:00 -&gt; (00:00 left)"
          }
        },
        "b9fd8834401245b88b3ca75cf6d859c8": {
          "model_module": "@jupyter-widgets/base",
          "model_name": "LayoutModel",
          "model_module_version": "1.2.0",
          "state": {
            "_model_module": "@jupyter-widgets/base",
            "_model_module_version": "1.2.0",
            "_model_name": "LayoutModel",
            "_view_count": null,
            "_view_module": "@jupyter-widgets/base",
            "_view_module_version": "1.2.0",
            "_view_name": "LayoutView",
            "align_content": null,
            "align_items": null,
            "align_self": null,
            "border": null,
            "bottom": null,
            "display": "inline-flex",
            "flex": null,
            "flex_flow": "row wrap",
            "grid_area": null,
            "grid_auto_columns": null,
            "grid_auto_flow": null,
            "grid_auto_rows": null,
            "grid_column": null,
            "grid_gap": null,
            "grid_row": null,
            "grid_template_areas": null,
            "grid_template_columns": null,
            "grid_template_rows": null,
            "height": null,
            "justify_content": null,
            "justify_items": null,
            "left": null,
            "margin": null,
            "max_height": null,
            "max_width": null,
            "min_height": null,
            "min_width": null,
            "object_fit": null,
            "object_position": null,
            "order": null,
            "overflow": null,
            "overflow_x": null,
            "overflow_y": null,
            "padding": null,
            "right": null,
            "top": null,
            "visibility": null,
            "width": "100%"
          }
        },
        "37ca2805e34447d9aa23bad297574407": {
          "model_module": "@jupyter-widgets/base",
          "model_name": "LayoutModel",
          "model_module_version": "1.2.0",
          "state": {
            "_model_module": "@jupyter-widgets/base",
            "_model_module_version": "1.2.0",
            "_model_name": "LayoutModel",
            "_view_count": null,
            "_view_module": "@jupyter-widgets/base",
            "_view_module_version": "1.2.0",
            "_view_name": "LayoutView",
            "align_content": null,
            "align_items": null,
            "align_self": null,
            "border": null,
            "bottom": null,
            "display": null,
            "flex": null,
            "flex_flow": null,
            "grid_area": null,
            "grid_auto_columns": null,
            "grid_auto_flow": null,
            "grid_auto_rows": null,
            "grid_column": null,
            "grid_gap": null,
            "grid_row": null,
            "grid_template_areas": null,
            "grid_template_columns": null,
            "grid_template_rows": null,
            "height": null,
            "justify_content": null,
            "justify_items": null,
            "left": null,
            "margin": null,
            "max_height": null,
            "max_width": null,
            "min_height": null,
            "min_width": null,
            "object_fit": null,
            "object_position": null,
            "order": null,
            "overflow": null,
            "overflow_x": null,
            "overflow_y": null,
            "padding": null,
            "right": null,
            "top": null,
            "visibility": null,
            "width": null
          }
        },
        "eedf347d3d6e4f76ab1075bacf7d98a6": {
          "model_module": "@jupyter-widgets/controls",
          "model_name": "DescriptionStyleModel",
          "model_module_version": "1.5.0",
          "state": {
            "_model_module": "@jupyter-widgets/controls",
            "_model_module_version": "1.5.0",
            "_model_name": "DescriptionStyleModel",
            "_view_count": null,
            "_view_module": "@jupyter-widgets/base",
            "_view_module_version": "1.2.0",
            "_view_name": "StyleView",
            "description_width": ""
          }
        },
        "faa35c1983cb4750955dde4301c53fb6": {
          "model_module": "@jupyter-widgets/base",
          "model_name": "LayoutModel",
          "model_module_version": "1.2.0",
          "state": {
            "_model_module": "@jupyter-widgets/base",
            "_model_module_version": "1.2.0",
            "_model_name": "LayoutModel",
            "_view_count": null,
            "_view_module": "@jupyter-widgets/base",
            "_view_module_version": "1.2.0",
            "_view_name": "LayoutView",
            "align_content": null,
            "align_items": null,
            "align_self": null,
            "border": null,
            "bottom": null,
            "display": null,
            "flex": "2",
            "flex_flow": null,
            "grid_area": null,
            "grid_auto_columns": null,
            "grid_auto_flow": null,
            "grid_auto_rows": null,
            "grid_column": null,
            "grid_gap": null,
            "grid_row": null,
            "grid_template_areas": null,
            "grid_template_columns": null,
            "grid_template_rows": null,
            "height": null,
            "justify_content": null,
            "justify_items": null,
            "left": null,
            "margin": null,
            "max_height": null,
            "max_width": null,
            "min_height": null,
            "min_width": null,
            "object_fit": null,
            "object_position": null,
            "order": null,
            "overflow": null,
            "overflow_x": null,
            "overflow_y": null,
            "padding": null,
            "right": null,
            "top": null,
            "visibility": null,
            "width": null
          }
        },
        "c9b0a3bf5ec64d2e8023af3a66a9c925": {
          "model_module": "@jupyter-widgets/controls",
          "model_name": "ProgressStyleModel",
          "model_module_version": "1.5.0",
          "state": {
            "_model_module": "@jupyter-widgets/controls",
            "_model_module_version": "1.5.0",
            "_model_name": "ProgressStyleModel",
            "_view_count": null,
            "_view_module": "@jupyter-widgets/base",
            "_view_module_version": "1.2.0",
            "_view_name": "StyleView",
            "bar_color": null,
            "description_width": ""
          }
        },
        "630ddeabcb634cca8fc6f4998e6d534e": {
          "model_module": "@jupyter-widgets/base",
          "model_name": "LayoutModel",
          "model_module_version": "1.2.0",
          "state": {
            "_model_module": "@jupyter-widgets/base",
            "_model_module_version": "1.2.0",
            "_model_name": "LayoutModel",
            "_view_count": null,
            "_view_module": "@jupyter-widgets/base",
            "_view_module_version": "1.2.0",
            "_view_name": "LayoutView",
            "align_content": null,
            "align_items": null,
            "align_self": null,
            "border": null,
            "bottom": null,
            "display": null,
            "flex": null,
            "flex_flow": null,
            "grid_area": null,
            "grid_auto_columns": null,
            "grid_auto_flow": null,
            "grid_auto_rows": null,
            "grid_column": null,
            "grid_gap": null,
            "grid_row": null,
            "grid_template_areas": null,
            "grid_template_columns": null,
            "grid_template_rows": null,
            "height": null,
            "justify_content": null,
            "justify_items": null,
            "left": null,
            "margin": null,
            "max_height": null,
            "max_width": null,
            "min_height": null,
            "min_width": null,
            "object_fit": null,
            "object_position": null,
            "order": null,
            "overflow": null,
            "overflow_x": null,
            "overflow_y": null,
            "padding": null,
            "right": null,
            "top": null,
            "visibility": null,
            "width": null
          }
        },
        "84ac84f23a50437a8ebdd6bf421ed8f3": {
          "model_module": "@jupyter-widgets/controls",
          "model_name": "DescriptionStyleModel",
          "model_module_version": "1.5.0",
          "state": {
            "_model_module": "@jupyter-widgets/controls",
            "_model_module_version": "1.5.0",
            "_model_name": "DescriptionStyleModel",
            "_view_count": null,
            "_view_module": "@jupyter-widgets/base",
            "_view_module_version": "1.2.0",
            "_view_name": "StyleView",
            "description_width": ""
          }
        },
        "bec3bb3901b44be2a1274a30c7c5fdc5": {
          "model_module": "@jupyter-widgets/controls",
          "model_name": "HBoxModel",
          "model_module_version": "1.5.0",
          "state": {
            "_dom_classes": [],
            "_model_module": "@jupyter-widgets/controls",
            "_model_module_version": "1.5.0",
            "_model_name": "HBoxModel",
            "_view_count": null,
            "_view_module": "@jupyter-widgets/controls",
            "_view_module_version": "1.5.0",
            "_view_name": "HBoxView",
            "box_style": "",
            "children": [
              "IPY_MODEL_a6c5898a13fc431cbe0d7d5915157102",
              "IPY_MODEL_9dc5f7782e24463fbb2080680f0a02a9",
              "IPY_MODEL_6a8ba7ff43784da5bf57ed703323ae53"
            ],
            "layout": "IPY_MODEL_814935df462541c692f684156387ce96"
          }
        },
        "a6c5898a13fc431cbe0d7d5915157102": {
          "model_module": "@jupyter-widgets/controls",
          "model_name": "HTMLModel",
          "model_module_version": "1.5.0",
          "state": {
            "_dom_classes": [],
            "_model_module": "@jupyter-widgets/controls",
            "_model_module_version": "1.5.0",
            "_model_name": "HTMLModel",
            "_view_count": null,
            "_view_module": "@jupyter-widgets/controls",
            "_view_module_version": "1.5.0",
            "_view_name": "HTMLView",
            "description": "",
            "description_tooltip": null,
            "layout": "IPY_MODEL_fd3353398273405e80b6308349496ad7",
            "placeholder": "​",
            "style": "IPY_MODEL_950bf25832d44c8f86a3c4f787e1a7b1",
            "value": "Done! Use &#x27;show&#x27; commands to display/save.   "
          }
        },
        "9dc5f7782e24463fbb2080680f0a02a9": {
          "model_module": "@jupyter-widgets/controls",
          "model_name": "FloatProgressModel",
          "model_module_version": "1.5.0",
          "state": {
            "_dom_classes": [],
            "_model_module": "@jupyter-widgets/controls",
            "_model_module_version": "1.5.0",
            "_model_name": "FloatProgressModel",
            "_view_count": null,
            "_view_module": "@jupyter-widgets/controls",
            "_view_module_version": "1.5.0",
            "_view_name": "ProgressView",
            "bar_style": "success",
            "description": "",
            "description_tooltip": null,
            "layout": "IPY_MODEL_a9b58a6a0f724a35a56a41e17269c212",
            "max": 1,
            "min": 0,
            "orientation": "horizontal",
            "style": "IPY_MODEL_cd5b1a3a08c84d6eb099e030adfb9e19",
            "value": 1
          }
        },
        "6a8ba7ff43784da5bf57ed703323ae53": {
          "model_module": "@jupyter-widgets/controls",
          "model_name": "HTMLModel",
          "model_module_version": "1.5.0",
          "state": {
            "_dom_classes": [],
            "_model_module": "@jupyter-widgets/controls",
            "_model_module_version": "1.5.0",
            "_model_name": "HTMLModel",
            "_view_count": null,
            "_view_module": "@jupyter-widgets/controls",
            "_view_module_version": "1.5.0",
            "_view_name": "HTMLView",
            "description": "",
            "description_tooltip": null,
            "layout": "IPY_MODEL_0a9a78cfa0dd4756b718c5029d59efa2",
            "placeholder": "​",
            "style": "IPY_MODEL_1a51372847384d87ba39d73963e749ae",
            "value": " [100%]   00:00 -&gt; (00:00 left)"
          }
        },
        "814935df462541c692f684156387ce96": {
          "model_module": "@jupyter-widgets/base",
          "model_name": "LayoutModel",
          "model_module_version": "1.2.0",
          "state": {
            "_model_module": "@jupyter-widgets/base",
            "_model_module_version": "1.2.0",
            "_model_name": "LayoutModel",
            "_view_count": null,
            "_view_module": "@jupyter-widgets/base",
            "_view_module_version": "1.2.0",
            "_view_name": "LayoutView",
            "align_content": null,
            "align_items": null,
            "align_self": null,
            "border": null,
            "bottom": null,
            "display": "inline-flex",
            "flex": null,
            "flex_flow": "row wrap",
            "grid_area": null,
            "grid_auto_columns": null,
            "grid_auto_flow": null,
            "grid_auto_rows": null,
            "grid_column": null,
            "grid_gap": null,
            "grid_row": null,
            "grid_template_areas": null,
            "grid_template_columns": null,
            "grid_template_rows": null,
            "height": null,
            "justify_content": null,
            "justify_items": null,
            "left": null,
            "margin": null,
            "max_height": null,
            "max_width": null,
            "min_height": null,
            "min_width": null,
            "object_fit": null,
            "object_position": null,
            "order": null,
            "overflow": null,
            "overflow_x": null,
            "overflow_y": null,
            "padding": null,
            "right": null,
            "top": null,
            "visibility": null,
            "width": "100%"
          }
        },
        "fd3353398273405e80b6308349496ad7": {
          "model_module": "@jupyter-widgets/base",
          "model_name": "LayoutModel",
          "model_module_version": "1.2.0",
          "state": {
            "_model_module": "@jupyter-widgets/base",
            "_model_module_version": "1.2.0",
            "_model_name": "LayoutModel",
            "_view_count": null,
            "_view_module": "@jupyter-widgets/base",
            "_view_module_version": "1.2.0",
            "_view_name": "LayoutView",
            "align_content": null,
            "align_items": null,
            "align_self": null,
            "border": null,
            "bottom": null,
            "display": null,
            "flex": null,
            "flex_flow": null,
            "grid_area": null,
            "grid_auto_columns": null,
            "grid_auto_flow": null,
            "grid_auto_rows": null,
            "grid_column": null,
            "grid_gap": null,
            "grid_row": null,
            "grid_template_areas": null,
            "grid_template_columns": null,
            "grid_template_rows": null,
            "height": null,
            "justify_content": null,
            "justify_items": null,
            "left": null,
            "margin": null,
            "max_height": null,
            "max_width": null,
            "min_height": null,
            "min_width": null,
            "object_fit": null,
            "object_position": null,
            "order": null,
            "overflow": null,
            "overflow_x": null,
            "overflow_y": null,
            "padding": null,
            "right": null,
            "top": null,
            "visibility": null,
            "width": null
          }
        },
        "950bf25832d44c8f86a3c4f787e1a7b1": {
          "model_module": "@jupyter-widgets/controls",
          "model_name": "DescriptionStyleModel",
          "model_module_version": "1.5.0",
          "state": {
            "_model_module": "@jupyter-widgets/controls",
            "_model_module_version": "1.5.0",
            "_model_name": "DescriptionStyleModel",
            "_view_count": null,
            "_view_module": "@jupyter-widgets/base",
            "_view_module_version": "1.2.0",
            "_view_name": "StyleView",
            "description_width": ""
          }
        },
        "a9b58a6a0f724a35a56a41e17269c212": {
          "model_module": "@jupyter-widgets/base",
          "model_name": "LayoutModel",
          "model_module_version": "1.2.0",
          "state": {
            "_model_module": "@jupyter-widgets/base",
            "_model_module_version": "1.2.0",
            "_model_name": "LayoutModel",
            "_view_count": null,
            "_view_module": "@jupyter-widgets/base",
            "_view_module_version": "1.2.0",
            "_view_name": "LayoutView",
            "align_content": null,
            "align_items": null,
            "align_self": null,
            "border": null,
            "bottom": null,
            "display": null,
            "flex": "2",
            "flex_flow": null,
            "grid_area": null,
            "grid_auto_columns": null,
            "grid_auto_flow": null,
            "grid_auto_rows": null,
            "grid_column": null,
            "grid_gap": null,
            "grid_row": null,
            "grid_template_areas": null,
            "grid_template_columns": null,
            "grid_template_rows": null,
            "height": null,
            "justify_content": null,
            "justify_items": null,
            "left": null,
            "margin": null,
            "max_height": null,
            "max_width": null,
            "min_height": null,
            "min_width": null,
            "object_fit": null,
            "object_position": null,
            "order": null,
            "overflow": null,
            "overflow_x": null,
            "overflow_y": null,
            "padding": null,
            "right": null,
            "top": null,
            "visibility": null,
            "width": null
          }
        },
        "cd5b1a3a08c84d6eb099e030adfb9e19": {
          "model_module": "@jupyter-widgets/controls",
          "model_name": "ProgressStyleModel",
          "model_module_version": "1.5.0",
          "state": {
            "_model_module": "@jupyter-widgets/controls",
            "_model_module_version": "1.5.0",
            "_model_name": "ProgressStyleModel",
            "_view_count": null,
            "_view_module": "@jupyter-widgets/base",
            "_view_module_version": "1.2.0",
            "_view_name": "StyleView",
            "bar_color": null,
            "description_width": ""
          }
        },
        "0a9a78cfa0dd4756b718c5029d59efa2": {
          "model_module": "@jupyter-widgets/base",
          "model_name": "LayoutModel",
          "model_module_version": "1.2.0",
          "state": {
            "_model_module": "@jupyter-widgets/base",
            "_model_module_version": "1.2.0",
            "_model_name": "LayoutModel",
            "_view_count": null,
            "_view_module": "@jupyter-widgets/base",
            "_view_module_version": "1.2.0",
            "_view_name": "LayoutView",
            "align_content": null,
            "align_items": null,
            "align_self": null,
            "border": null,
            "bottom": null,
            "display": null,
            "flex": null,
            "flex_flow": null,
            "grid_area": null,
            "grid_auto_columns": null,
            "grid_auto_flow": null,
            "grid_auto_rows": null,
            "grid_column": null,
            "grid_gap": null,
            "grid_row": null,
            "grid_template_areas": null,
            "grid_template_columns": null,
            "grid_template_rows": null,
            "height": null,
            "justify_content": null,
            "justify_items": null,
            "left": null,
            "margin": null,
            "max_height": null,
            "max_width": null,
            "min_height": null,
            "min_width": null,
            "object_fit": null,
            "object_position": null,
            "order": null,
            "overflow": null,
            "overflow_x": null,
            "overflow_y": null,
            "padding": null,
            "right": null,
            "top": null,
            "visibility": null,
            "width": null
          }
        },
        "1a51372847384d87ba39d73963e749ae": {
          "model_module": "@jupyter-widgets/controls",
          "model_name": "DescriptionStyleModel",
          "model_module_version": "1.5.0",
          "state": {
            "_model_module": "@jupyter-widgets/controls",
            "_model_module_version": "1.5.0",
            "_model_name": "DescriptionStyleModel",
            "_view_count": null,
            "_view_module": "@jupyter-widgets/base",
            "_view_module_version": "1.2.0",
            "_view_name": "StyleView",
            "description_width": ""
          }
        }
      }
    }
  },
  "cells": [
    {
      "cell_type": "markdown",
      "metadata": {
        "id": "view-in-github",
        "colab_type": "text"
      },
      "source": [
        "<a href=\"https://colab.research.google.com/github/LotharN223/gitstart/blob/main/Relat%C3%B3rios_Automatizados_com_SweetViz.ipynb\" target=\"_parent\"><img src=\"https://colab.research.google.com/assets/colab-badge.svg\" alt=\"Open In Colab\"/></a>"
      ]
    },
    {
      "cell_type": "markdown",
      "metadata": {
        "id": "e0n61gLCNKY6"
      },
      "source": [
        "<img alt=\"Colaboratory logo\" width=\"15%\" src=\"https://raw.githubusercontent.com/carlosfab/escola-data-science/master/img/novo_logo_bg_claro.png\">\n",
        "\n",
        "#### **Python do Zero**\n",
        "*by [sigmoidal.ai](https://sigmoidal.ai)*\n",
        "\n",
        "---\n",
        "\n",
        "# SweetViz\n",
        "\n",
        "<center><img width=\"45%\" src=\"https://miro.medium.com/max/700/1*jx_ShECen95-F_M5PH9HCA.png\"></center>\n",
        "\n",
        "\n",
        "A análise exploratória é fase essencial em qualquer projeto com dados. Entender bem nossos dados vai nos dar insights valiosos e direcionar nosso trabalho com eles.\n",
        "\n",
        "Apesar de demandar muito tempo e atenção, existem ferramentas que podem nos auxiliar e agilizar nosso trabalho. Uma delas é o [Sweet Viz](https://pypi.org/project/sweetviz/).\n",
        "\n",
        "Essa biblioteca é capaz de analisar e criar relatórios sobre nossos dados de forma automatizada, exigindo pouquíssimo código, reduzindo a curva de aprendizado para análises completas, economizando tempo, e nos dando belas visualizações, fáceis de navegar e entender."
      ]
    },
    {
      "cell_type": "markdown",
      "metadata": {
        "id": "_xA12Xb2Q3ui"
      },
      "source": [
        "## Instalando o Sweet Viz\n",
        "\n",
        "Por padrão, o Colab não possui essa biblioteca instalada. Portanto, precisamos fazer a instalação manualmente."
      ]
    },
    {
      "cell_type": "code",
      "metadata": {
        "id": "EYZ61_ibFG3w"
      },
      "source": [
        "# instalando a biblioteca\n",
        "!pip install sweetviz -q"
      ],
      "execution_count": 2,
      "outputs": []
    },
    {
      "cell_type": "markdown",
      "metadata": {
        "id": "NOGsZlX7RAh_"
      },
      "source": [
        "Uma vez instalado, é só importar e começar a usar!"
      ]
    },
    {
      "cell_type": "markdown",
      "metadata": {
        "id": "gxercln9RD3J"
      },
      "source": [
        "## Carregando os Dados\n",
        "\n",
        "Agora que estamos com tudo pronto, é hora de importar os pacotes e iniciar nossa análise de dados.\n",
        "\n",
        "Para esse notebook, vamos utilizar um conjunto de dados proveniente de um e-commerce brasileiro. Os dados estão disponíveis no [Kaggle](https://www.kaggle.com/olistbr/brazilian-ecommerce). \n",
        "\n",
        "Originalmente, os dados estão em formato csv, mas organizamos eles em formato de planilha, para emular a realidade da maioria que utiliza planilhas de excel. Os dados organizados podem ser utilizados diretamente pelo link abaixo, e os originais, e mais informações sobre os dados podem ser encontrados [aqui](https://www.kaggle.com/olistbr/brazilian-ecommerce?select=olist_products_dataset.csv).\n",
        "\n",
        "Vamos utilizar o `pandas` para carregar os dados da mesma forma que vínhamos fazendo anteriormente."
      ]
    },
    {
      "cell_type": "code",
      "metadata": {
        "id": "ShdwkVFqFEjw"
      },
      "source": [
        "# importando os pacotes necessários\n",
        "import sweetviz\n",
        "import pandas as pd"
      ],
      "execution_count": 3,
      "outputs": []
    },
    {
      "cell_type": "code",
      "metadata": {
        "id": "-uHGphODFGdm"
      },
      "source": [
        "# carregando os dados\n",
        "dados = pd.read_excel(\"https://www.dropbox.com/s/6zogl04a1h1sb3d/dados_ecommerce.xlsx?dl=1\", sheet_name=None,)"
      ],
      "execution_count": 4,
      "outputs": []
    },
    {
      "cell_type": "markdown",
      "metadata": {
        "id": "p-GfWyIXTSyc"
      },
      "source": [
        "Uma vez carregados, da mesma forma que fizemos anteriormente, precisamos selecionar a aba que iremos trabalhar.\n",
        "\n",
        "O formato em que eles são recebidos não é \"amigável\", e não facilita nosso trabalho. Veja abaixo:"
      ]
    },
    {
      "cell_type": "code",
      "metadata": {
        "id": "URPl4wQmGcce",
        "colab": {
          "base_uri": "https://localhost:8080/"
        },
        "outputId": "3628ddf6-578c-4366-867a-db8b5f0fa1d2"
      },
      "source": [
        "# verificando os dados\n",
        "dados"
      ],
      "execution_count": 5,
      "outputs": [
        {
          "output_type": "execute_result",
          "data": {
            "text/plain": [
              "{'Clientes':                             customer_id                customer_unique_id  \\\n",
              " 0      06b8999e2fba1a1fbc88172c00ba8bc7  861eff4711a542e4b93843c6dd7febb0   \n",
              " 1      18955e83d337fd6b2def6b18a428ac77  290c77bc529b7ac935b93aa66c333dc3   \n",
              " 2      4e7b3e00288586ebd08712fdd0374a03  060e732b5b29e8181a18229c7b0b2b5e   \n",
              " 3      b2b6027bc5c5109e529d4dc6358b12c3  259dac757896d24d7702b9acbbff3f3c   \n",
              " 4      4f2d8ab171c80ec8364f7c12e35b23ad  345ecd01c38d18a9036ed96c73b8d066   \n",
              " ...                                 ...                               ...   \n",
              " 99436  17ddf5dd5d51696bb3d7c6291687be6f  1a29b476fee25c95fbafc67c5ac95cf8   \n",
              " 99437  e7b71a9017aa05c9a7fd292d714858e8  d52a67c98be1cf6a5c84435bd38d095d   \n",
              " 99438  5e28dfe12db7fb50a4b2f691faecea5e  e9f50caf99f032f0bf3c55141f019d99   \n",
              " 99439  56b18e2166679b8a959d72dd06da27f9  73c2643a0a458b49f58cea58833b192e   \n",
              " 99440  274fa6071e5e17fe303b9748641082c8  84732c5050c01db9b23e19ba39899398   \n",
              " \n",
              "        customer_zip_code_prefix          customer_city customer_state  \n",
              " 0                         14409                 franca             SP  \n",
              " 1                          9790  sao bernardo do campo             SP  \n",
              " 2                          1151              sao paulo             SP  \n",
              " 3                          8775        mogi das cruzes             SP  \n",
              " 4                         13056               campinas             SP  \n",
              " ...                         ...                    ...            ...  \n",
              " 99436                      3937              sao paulo             SP  \n",
              " 99437                      6764        taboao da serra             SP  \n",
              " 99438                     60115              fortaleza             CE  \n",
              " 99439                     92120                 canoas             RS  \n",
              " 99440                      6703                  cotia             SP  \n",
              " \n",
              " [99441 rows x 5 columns],\n",
              " 'Pagamentos':                                 order_id  payment_sequential payment_type  \\\n",
              " 0       b81ef226f3fe1789b1e8b2acac839d17                   1  credit_card   \n",
              " 1       a9810da82917af2d9aefd1278f1dcfa0                   1  credit_card   \n",
              " 2       25e8ea4e93396b6fa0d3dd708e76c1bd                   1  credit_card   \n",
              " 3       ba78997921bbcdc1373bb41e913ab953                   1  credit_card   \n",
              " 4       42fdf880ba16b47b59251dd489d4441a                   1  credit_card   \n",
              " ...                                  ...                 ...          ...   \n",
              " 103881  0406037ad97740d563a178ecc7a2075c                   1       boleto   \n",
              " 103882  7b905861d7c825891d6347454ea7863f                   1  credit_card   \n",
              " 103883  32609bbb3dd69b3c066a6860554a77bf                   1  credit_card   \n",
              " 103884  b8b61059626efa996a60be9bb9320e10                   1  credit_card   \n",
              " 103885  28bbae6599b09d39ca406b747b6632b1                   1       boleto   \n",
              " \n",
              "         payment_installments  payment_value  \n",
              " 0                          8          99.33  \n",
              " 1                          1          24.39  \n",
              " 2                          1          65.71  \n",
              " 3                          8         107.78  \n",
              " 4                          2         128.45  \n",
              " ...                      ...            ...  \n",
              " 103881                     1         363.31  \n",
              " 103882                     2          96.80  \n",
              " 103883                     1          47.77  \n",
              " 103884                     5         369.54  \n",
              " 103885                     1         191.58  \n",
              " \n",
              " [103886 rows x 5 columns],\n",
              " 'Itens':                                 order_id  order_item_id  \\\n",
              " 0       00010242fe8c5a6d1ba2dd792cb16214              1   \n",
              " 1       00018f77f2f0320c557190d7a144bdd3              1   \n",
              " 2       000229ec398224ef6ca0657da4fc703e              1   \n",
              " 3       00024acbcdf0a6daa1e931b038114c75              1   \n",
              " 4       00042b26cf59d7ce69dfabb4e55b4fd9              1   \n",
              " ...                                  ...            ...   \n",
              " 112645  fffc94f6ce00a00581880bf54a75a037              1   \n",
              " 112646  fffcd46ef2263f404302a634eb57f7eb              1   \n",
              " 112647  fffce4705a9662cd70adb13d4a31832d              1   \n",
              " 112648  fffe18544ffabc95dfada21779c9644f              1   \n",
              " 112649  fffe41c64501cc87c801fd61db3f6244              1   \n",
              " \n",
              "                               product_id                         seller_id  \\\n",
              " 0       4244733e06e7ecb4970a6e2683c13e61  48436dade18ac8b2bce089ec2a041202   \n",
              " 1       e5f2d52b802189ee658865ca93d83a8f  dd7ddc04e1b6c2c614352b383efe2d36   \n",
              " 2       c777355d18b72b67abbeef9df44fd0fd  5b51032eddd242adc84c38acab88f23d   \n",
              " 3       7634da152a4610f1595efa32f14722fc  9d7a1d34a5052409006425275ba1c2b4   \n",
              " 4       ac6c3623068f30de03045865e4e10089  df560393f3a51e74553ab94004ba5c87   \n",
              " ...                                  ...                               ...   \n",
              " 112645  4aa6014eceb682077f9dc4bffebc05b0  b8bc237ba3788b23da09c0f1f3a3288c   \n",
              " 112646  32e07fd915822b0765e448c4dd74c828  f3c38ab652836d21de61fb8314b69182   \n",
              " 112647  72a30483855e2eafc67aee5dc2560482  c3cfdc648177fdbbbb35635a37472c53   \n",
              " 112648  9c422a519119dcad7575db5af1ba540e  2b3e4a2a3ea8e01938cabda2a3e5cc79   \n",
              " 112649  350688d9dc1e75ff97be326363655e01  f7ccf836d21b2fb1de37564105216cc1   \n",
              " \n",
              "        shipping_limit_date   price  freight_value  \n",
              " 0      2017-09-19 09:45:35   58.90          13.29  \n",
              " 1      2017-05-03 11:05:13  239.90          19.93  \n",
              " 2      2018-01-18 14:48:30  199.00          17.87  \n",
              " 3      2018-08-15 10:10:18   12.99          12.79  \n",
              " 4      2017-02-13 13:57:51  199.90          18.14  \n",
              " ...                    ...     ...            ...  \n",
              " 112645 2018-05-02 04:11:01  299.99          43.41  \n",
              " 112646 2018-07-20 04:31:48  350.00          36.53  \n",
              " 112647 2017-10-30 17:14:25   99.90          16.95  \n",
              " 112648 2017-08-21 00:04:32   55.99           8.72  \n",
              " 112649 2018-06-12 17:10:13   43.00          12.79  \n",
              " \n",
              " [112650 rows x 7 columns]}"
            ]
          },
          "metadata": {},
          "execution_count": 5
        }
      ]
    },
    {
      "cell_type": "markdown",
      "metadata": {
        "id": "3juK0NCIUPEs"
      },
      "source": [
        "Aqui estamos lidando com um dicionário, onde cada aba representa uma chave, com seu conteúdo como valores. Para visualizarmos as abas disponíveis, basta usar o comando `.keys()`."
      ]
    },
    {
      "cell_type": "code",
      "metadata": {
        "id": "cZsogbiAG2V1",
        "colab": {
          "base_uri": "https://localhost:8080/"
        },
        "outputId": "88a45e44-ed92-4177-e1c8-c0d2fe4761f1"
      },
      "source": [
        "# verificando as abas existentes\n",
        "dados.keys()"
      ],
      "execution_count": 6,
      "outputs": [
        {
          "output_type": "execute_result",
          "data": {
            "text/plain": [
              "dict_keys(['Clientes', 'Pagamentos', 'Itens'])"
            ]
          },
          "metadata": {},
          "execution_count": 6
        }
      ]
    },
    {
      "cell_type": "markdown",
      "metadata": {
        "id": "ZsMZi5J3Ufs8"
      },
      "source": [
        "Vamos trabalhar com a aba clientes. Para selecionar uma aba, basta utilizar o código abaixo, com o nome da aba desejada entre aspas (simples ou duplas), dentro de colchetes."
      ]
    },
    {
      "cell_type": "code",
      "metadata": {
        "id": "UQw-5KMyHXl3",
        "colab": {
          "base_uri": "https://localhost:8080/",
          "height": 206
        },
        "outputId": "7aa40e8e-7624-4996-fcf2-8d5dadf0306b"
      },
      "source": [
        "# selecionando a aba\n",
        "dados['Clientes'].head()"
      ],
      "execution_count": 7,
      "outputs": [
        {
          "output_type": "execute_result",
          "data": {
            "text/plain": [
              "                        customer_id                customer_unique_id  \\\n",
              "0  06b8999e2fba1a1fbc88172c00ba8bc7  861eff4711a542e4b93843c6dd7febb0   \n",
              "1  18955e83d337fd6b2def6b18a428ac77  290c77bc529b7ac935b93aa66c333dc3   \n",
              "2  4e7b3e00288586ebd08712fdd0374a03  060e732b5b29e8181a18229c7b0b2b5e   \n",
              "3  b2b6027bc5c5109e529d4dc6358b12c3  259dac757896d24d7702b9acbbff3f3c   \n",
              "4  4f2d8ab171c80ec8364f7c12e35b23ad  345ecd01c38d18a9036ed96c73b8d066   \n",
              "\n",
              "   customer_zip_code_prefix          customer_city customer_state  \n",
              "0                     14409                 franca             SP  \n",
              "1                      9790  sao bernardo do campo             SP  \n",
              "2                      1151              sao paulo             SP  \n",
              "3                      8775        mogi das cruzes             SP  \n",
              "4                     13056               campinas             SP  "
            ],
            "text/html": [
              "\n",
              "  <div id=\"df-210ebf27-0983-41ca-a82c-6bbc97e523a1\">\n",
              "    <div class=\"colab-df-container\">\n",
              "      <div>\n",
              "<style scoped>\n",
              "    .dataframe tbody tr th:only-of-type {\n",
              "        vertical-align: middle;\n",
              "    }\n",
              "\n",
              "    .dataframe tbody tr th {\n",
              "        vertical-align: top;\n",
              "    }\n",
              "\n",
              "    .dataframe thead th {\n",
              "        text-align: right;\n",
              "    }\n",
              "</style>\n",
              "<table border=\"1\" class=\"dataframe\">\n",
              "  <thead>\n",
              "    <tr style=\"text-align: right;\">\n",
              "      <th></th>\n",
              "      <th>customer_id</th>\n",
              "      <th>customer_unique_id</th>\n",
              "      <th>customer_zip_code_prefix</th>\n",
              "      <th>customer_city</th>\n",
              "      <th>customer_state</th>\n",
              "    </tr>\n",
              "  </thead>\n",
              "  <tbody>\n",
              "    <tr>\n",
              "      <th>0</th>\n",
              "      <td>06b8999e2fba1a1fbc88172c00ba8bc7</td>\n",
              "      <td>861eff4711a542e4b93843c6dd7febb0</td>\n",
              "      <td>14409</td>\n",
              "      <td>franca</td>\n",
              "      <td>SP</td>\n",
              "    </tr>\n",
              "    <tr>\n",
              "      <th>1</th>\n",
              "      <td>18955e83d337fd6b2def6b18a428ac77</td>\n",
              "      <td>290c77bc529b7ac935b93aa66c333dc3</td>\n",
              "      <td>9790</td>\n",
              "      <td>sao bernardo do campo</td>\n",
              "      <td>SP</td>\n",
              "    </tr>\n",
              "    <tr>\n",
              "      <th>2</th>\n",
              "      <td>4e7b3e00288586ebd08712fdd0374a03</td>\n",
              "      <td>060e732b5b29e8181a18229c7b0b2b5e</td>\n",
              "      <td>1151</td>\n",
              "      <td>sao paulo</td>\n",
              "      <td>SP</td>\n",
              "    </tr>\n",
              "    <tr>\n",
              "      <th>3</th>\n",
              "      <td>b2b6027bc5c5109e529d4dc6358b12c3</td>\n",
              "      <td>259dac757896d24d7702b9acbbff3f3c</td>\n",
              "      <td>8775</td>\n",
              "      <td>mogi das cruzes</td>\n",
              "      <td>SP</td>\n",
              "    </tr>\n",
              "    <tr>\n",
              "      <th>4</th>\n",
              "      <td>4f2d8ab171c80ec8364f7c12e35b23ad</td>\n",
              "      <td>345ecd01c38d18a9036ed96c73b8d066</td>\n",
              "      <td>13056</td>\n",
              "      <td>campinas</td>\n",
              "      <td>SP</td>\n",
              "    </tr>\n",
              "  </tbody>\n",
              "</table>\n",
              "</div>\n",
              "      <button class=\"colab-df-convert\" onclick=\"convertToInteractive('df-210ebf27-0983-41ca-a82c-6bbc97e523a1')\"\n",
              "              title=\"Convert this dataframe to an interactive table.\"\n",
              "              style=\"display:none;\">\n",
              "        \n",
              "  <svg xmlns=\"http://www.w3.org/2000/svg\" height=\"24px\"viewBox=\"0 0 24 24\"\n",
              "       width=\"24px\">\n",
              "    <path d=\"M0 0h24v24H0V0z\" fill=\"none\"/>\n",
              "    <path d=\"M18.56 5.44l.94 2.06.94-2.06 2.06-.94-2.06-.94-.94-2.06-.94 2.06-2.06.94zm-11 1L8.5 8.5l.94-2.06 2.06-.94-2.06-.94L8.5 2.5l-.94 2.06-2.06.94zm10 10l.94 2.06.94-2.06 2.06-.94-2.06-.94-.94-2.06-.94 2.06-2.06.94z\"/><path d=\"M17.41 7.96l-1.37-1.37c-.4-.4-.92-.59-1.43-.59-.52 0-1.04.2-1.43.59L10.3 9.45l-7.72 7.72c-.78.78-.78 2.05 0 2.83L4 21.41c.39.39.9.59 1.41.59.51 0 1.02-.2 1.41-.59l7.78-7.78 2.81-2.81c.8-.78.8-2.07 0-2.86zM5.41 20L4 18.59l7.72-7.72 1.47 1.35L5.41 20z\"/>\n",
              "  </svg>\n",
              "      </button>\n",
              "      \n",
              "  <style>\n",
              "    .colab-df-container {\n",
              "      display:flex;\n",
              "      flex-wrap:wrap;\n",
              "      gap: 12px;\n",
              "    }\n",
              "\n",
              "    .colab-df-convert {\n",
              "      background-color: #E8F0FE;\n",
              "      border: none;\n",
              "      border-radius: 50%;\n",
              "      cursor: pointer;\n",
              "      display: none;\n",
              "      fill: #1967D2;\n",
              "      height: 32px;\n",
              "      padding: 0 0 0 0;\n",
              "      width: 32px;\n",
              "    }\n",
              "\n",
              "    .colab-df-convert:hover {\n",
              "      background-color: #E2EBFA;\n",
              "      box-shadow: 0px 1px 2px rgba(60, 64, 67, 0.3), 0px 1px 3px 1px rgba(60, 64, 67, 0.15);\n",
              "      fill: #174EA6;\n",
              "    }\n",
              "\n",
              "    [theme=dark] .colab-df-convert {\n",
              "      background-color: #3B4455;\n",
              "      fill: #D2E3FC;\n",
              "    }\n",
              "\n",
              "    [theme=dark] .colab-df-convert:hover {\n",
              "      background-color: #434B5C;\n",
              "      box-shadow: 0px 1px 3px 1px rgba(0, 0, 0, 0.15);\n",
              "      filter: drop-shadow(0px 1px 2px rgba(0, 0, 0, 0.3));\n",
              "      fill: #FFFFFF;\n",
              "    }\n",
              "  </style>\n",
              "\n",
              "      <script>\n",
              "        const buttonEl =\n",
              "          document.querySelector('#df-210ebf27-0983-41ca-a82c-6bbc97e523a1 button.colab-df-convert');\n",
              "        buttonEl.style.display =\n",
              "          google.colab.kernel.accessAllowed ? 'block' : 'none';\n",
              "\n",
              "        async function convertToInteractive(key) {\n",
              "          const element = document.querySelector('#df-210ebf27-0983-41ca-a82c-6bbc97e523a1');\n",
              "          const dataTable =\n",
              "            await google.colab.kernel.invokeFunction('convertToInteractive',\n",
              "                                                     [key], {});\n",
              "          if (!dataTable) return;\n",
              "\n",
              "          const docLinkHtml = 'Like what you see? Visit the ' +\n",
              "            '<a target=\"_blank\" href=https://colab.research.google.com/notebooks/data_table.ipynb>data table notebook</a>'\n",
              "            + ' to learn more about interactive tables.';\n",
              "          element.innerHTML = '';\n",
              "          dataTable['output_type'] = 'display_data';\n",
              "          await google.colab.output.renderOutput(dataTable, element);\n",
              "          const docLink = document.createElement('div');\n",
              "          docLink.innerHTML = docLinkHtml;\n",
              "          element.appendChild(docLink);\n",
              "        }\n",
              "      </script>\n",
              "    </div>\n",
              "  </div>\n",
              "  "
            ]
          },
          "metadata": {},
          "execution_count": 7
        }
      ]
    },
    {
      "cell_type": "markdown",
      "metadata": {
        "id": "svxl1AkLUuJD"
      },
      "source": [
        "### Criando um Relatório com SweetViz\n",
        "\n",
        "Com os dados a serem analisados carregados e prontos para uso, é hora de utilizarmos todo o poder do **SweetViz** a nossa favor.\n",
        "\n",
        "Para criar um relatório, vamos criar uma variável, e associar a ela o resultado da função `analyze()`, que leva como parâmetro o conjunto de dados a ser analisados."
      ]
    },
    {
      "cell_type": "code",
      "metadata": {
        "id": "3bj5EfAfHZXy",
        "colab": {
          "base_uri": "https://localhost:8080/",
          "height": 49,
          "referenced_widgets": [
            "819f7b1a9d034781a4742d8a49b57396",
            "ee5a480b7c62451c9f76aa14a9e95431",
            "8ff2a45810fe4caca09abd4bd187ea42",
            "c01736388e0747619aa4c99be85b5039",
            "b9fd8834401245b88b3ca75cf6d859c8",
            "37ca2805e34447d9aa23bad297574407",
            "eedf347d3d6e4f76ab1075bacf7d98a6",
            "faa35c1983cb4750955dde4301c53fb6",
            "c9b0a3bf5ec64d2e8023af3a66a9c925",
            "630ddeabcb634cca8fc6f4998e6d534e",
            "84ac84f23a50437a8ebdd6bf421ed8f3"
          ]
        },
        "outputId": "a2880024-87a7-409d-b78c-1b7eb0c44459"
      },
      "source": [
        "# criando o relatório\n",
        "relatorio_clientes = sweetviz.analyze(dados['Clientes'])"
      ],
      "execution_count": 8,
      "outputs": [
        {
          "output_type": "display_data",
          "data": {
            "text/plain": [
              "                                             |          | [  0%]   00:00 -> (? left)"
            ],
            "application/vnd.jupyter.widget-view+json": {
              "version_major": 2,
              "version_minor": 0,
              "model_id": "819f7b1a9d034781a4742d8a49b57396"
            }
          },
          "metadata": {}
        }
      ]
    },
    {
      "cell_type": "markdown",
      "metadata": {
        "id": "S_O17mjKVYCL"
      },
      "source": [
        "Uma vez criado, é hora de visualizar o nosso relatório, utilizando o comando `show.html()`, passando como parâmetro o nome do arquivo html a ser criado para o relatório.\n",
        "\n",
        "Esse arquivo será salvo na nossa pasta de arquivos do Colab, no menu à esquerda, onde pode ser feito o download do mesmo para uso posterior, fora do Colab, sem a necessidade de rodar todo esse notebook novamente.\n",
        "\n",
        "**Para visualizar o relatório, baixe o arquivo hmtl gerado através da aba à esquerda. Após o download, abra o arquivo. Ele irá abrir uma janela em seu browser, com o relatório.**"
      ]
    },
    {
      "cell_type": "code",
      "metadata": {
        "id": "fH6782o_Hkch",
        "colab": {
          "base_uri": "https://localhost:8080/"
        },
        "outputId": "0b06820b-8b18-4720-acd8-0d7bf4ace1fc"
      },
      "source": [
        "# criando o arquivo html e mostrando o relatório\n",
        "relatorio_clientes.show_html(\"clientes.html\")"
      ],
      "execution_count": 9,
      "outputs": [
        {
          "output_type": "stream",
          "name": "stdout",
          "text": [
            "Report clientes.html was generated! NOTEBOOK/COLAB USERS: the web browser MAY not pop up, regardless, the report IS saved in your notebook/colab files.\n"
          ]
        }
      ]
    },
    {
      "cell_type": "markdown",
      "metadata": {
        "id": "lhNy2MBpWk4V"
      },
      "source": [
        "Pronto! Agora que já sabemos o caminho, podemos criar análises como essas para cada uma das abas do nosso projeto.\n",
        "\n",
        "Vamos ver como ficaria o relatório para a aba Pagamentos."
      ]
    },
    {
      "cell_type": "code",
      "metadata": {
        "id": "Ry_cMXBdHqYg",
        "colab": {
          "base_uri": "https://localhost:8080/",
          "height": 49,
          "referenced_widgets": [
            "bec3bb3901b44be2a1274a30c7c5fdc5",
            "a6c5898a13fc431cbe0d7d5915157102",
            "9dc5f7782e24463fbb2080680f0a02a9",
            "6a8ba7ff43784da5bf57ed703323ae53",
            "814935df462541c692f684156387ce96",
            "fd3353398273405e80b6308349496ad7",
            "950bf25832d44c8f86a3c4f787e1a7b1",
            "a9b58a6a0f724a35a56a41e17269c212",
            "cd5b1a3a08c84d6eb099e030adfb9e19",
            "0a9a78cfa0dd4756b718c5029d59efa2",
            "1a51372847384d87ba39d73963e749ae"
          ]
        },
        "outputId": "847dd8a4-ef2d-417b-d70c-7446b2e11d7a"
      },
      "source": [
        "# criando relatório para a aba pagamentos\n",
        "relatorio_pagamentos = sweetviz.analyze(dados['Pagamentos'])"
      ],
      "execution_count": 10,
      "outputs": [
        {
          "output_type": "display_data",
          "data": {
            "text/plain": [
              "                                             |          | [  0%]   00:00 -> (? left)"
            ],
            "application/vnd.jupyter.widget-view+json": {
              "version_major": 2,
              "version_minor": 0,
              "model_id": "bec3bb3901b44be2a1274a30c7c5fdc5"
            }
          },
          "metadata": {}
        }
      ]
    },
    {
      "cell_type": "code",
      "metadata": {
        "id": "dI67tQVIJ8fW",
        "colab": {
          "base_uri": "https://localhost:8080/"
        },
        "outputId": "a7302f0a-0145-4e20-834a-dbad58e56207"
      },
      "source": [
        "# criando html e visualizando o relatório da aba pagamentos\n",
        "relatorio_pagamentos.show_html(\"pagamentos.html\")"
      ],
      "execution_count": 11,
      "outputs": [
        {
          "output_type": "stream",
          "name": "stdout",
          "text": [
            "Report pagamentos.html was generated! NOTEBOOK/COLAB USERS: the web browser MAY not pop up, regardless, the report IS saved in your notebook/colab files.\n"
          ]
        }
      ]
    },
    {
      "cell_type": "code",
      "metadata": {
        "id": "uBsqiZa_KBwI"
      },
      "source": [],
      "execution_count": null,
      "outputs": []
    }
  ]
}